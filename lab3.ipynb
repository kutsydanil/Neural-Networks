{
  "nbformat": 4,
  "nbformat_minor": 0,
  "metadata": {
    "colab": {
      "provenance": [],
      "collapsed_sections": []
    },
    "kernelspec": {
      "name": "python3",
      "display_name": "Python 3"
    },
    "language_info": {
      "name": "python"
    }
  },
  "cells": [
    {
      "cell_type": "markdown",
      "source": [
        "#Лабораторная работа №3"
      ],
      "metadata": {
        "id": "rJBGcnD72UQP"
      }
    },
    {
      "cell_type": "code",
      "execution_count": null,
      "metadata": {
        "id": "rls7MJJ72O9D"
      },
      "outputs": [],
      "source": [
        "import numpy as np\n",
        "from random import random\n",
        "import math\n",
        "import os\n",
        "from os import listdir\n",
        "from PIL import Image\n",
        "import matplotlib.pyplot as plt\n",
        "from random import uniform as uniform\n",
        "from sklearn.model_selection import train_test_split\n",
        "from sklearn.metrics import jaccard_score, accuracy_score\n",
        "import seaborn as sns"
      ]
    },
    {
      "cell_type": "code",
      "source": [
        "from google.colab import drive\n",
        "drive.mount('/content/drive')"
      ],
      "metadata": {
        "colab": {
          "base_uri": "https://localhost:8080/"
        },
        "id": "0NmmZR4j2YoP",
        "outputId": "a61ea14f-7d3f-4f89-8660-144d98b821dc"
      },
      "execution_count": null,
      "outputs": [
        {
          "output_type": "stream",
          "name": "stdout",
          "text": [
            "Drive already mounted at /content/drive; to attempt to forcibly remount, call drive.mount(\"/content/drive\", force_remount=True).\n"
          ]
        }
      ]
    },
    {
      "cell_type": "code",
      "source": [
        "#Функция чтения датасета из colab\n",
        "def ReadDataSet():\n",
        "  y_key = [0, 1]\n",
        "  x_set, y_set = [], []\n",
        "  path = \"/content/drive/My Drive/neural networks/lab2/\"\n",
        "  directory_name = [\"wristwatch\", \"wallclock\"]\n",
        "  first_directory = path + directory_name[0]\n",
        "  second_directory = path + directory_name[1]\n",
        "  pathes = [first_directory, second_directory]\n",
        "\n",
        "  size = (16, 16)\n",
        "  for i in range(len(pathes)):\n",
        "    files = listdir(pathes[i])\n",
        "    for j in files:\n",
        "      image = Image.open(pathes[i] + '/' + j)\n",
        "      image = image.resize(size).convert('L')\n",
        "      image = np.asarray(image) / 255\n",
        "      x_set.append(image)\n",
        "      y_set.append(y_key[i])\n",
        "  return x_set, y_set"
      ],
      "metadata": {
        "id": "r7KzqUFE2cir"
      },
      "execution_count": null,
      "outputs": []
    },
    {
      "cell_type": "code",
      "source": [
        "#Функция для выводы картинок на экран\n",
        "def outPutDataset(x_dataset, y_dataset):\n",
        "  plt.figure(figsize = (26 , 6))\n",
        "  for i in range(len(x_dataset)):\n",
        "    plt.subplot(2 , 10 , i + 1)\n",
        "    plt.title(\"Class: {0}\".format(y_dataset[i]))\n",
        "    plt.imshow(x_dataset[i], cmap = \"gray\")"
      ],
      "metadata": {
        "id": "UXMjXoG5eiLf"
      },
      "execution_count": null,
      "outputs": []
    },
    {
      "cell_type": "code",
      "source": [
        "x_dataset, y_dataset = ReadDataSet()"
      ],
      "metadata": {
        "id": "HUnHLgmH2ef6"
      },
      "execution_count": null,
      "outputs": []
    },
    {
      "cell_type": "code",
      "source": [
        "outPutDataset(x_dataset, y_dataset)"
      ],
      "metadata": {
        "colab": {
          "base_uri": "https://localhost:8080/",
          "height": 365
        },
        "id": "DCMzXyvi2fwF",
        "outputId": "68de6651-bc7e-4cf9-ad0b-dd6c9485a99d"
      },
      "execution_count": null,
      "outputs": [
        {
          "output_type": "display_data",
          "data": {
            "text/plain": [
              "<Figure size 1872x432 with 20 Axes>"
            ],
            "image/png": "[encoded data removed]"
          },
          "metadata": {
            "needs_background": "light"
          }
        }
      ]
    },
    {
      "cell_type": "code",
      "source": [
        "def mini_batch(x, y):\n",
        "  x_train, x_test, y_train, y_test = train_test_split(x, y, test_size = 0.20, stratify=y)\n",
        "  \n",
        "  print(f\"Количество строк в y_train по классам: {np.bincount(y_train)}\")\n",
        "  print(f\"Количество строк в y_test по классам: {np.bincount(y_test)}\") \n",
        "  return x_train, y_train, x_test, y_test"
      ],
      "metadata": {
        "id": "iFaQH0WF2kc6"
      },
      "execution_count": null,
      "outputs": []
    },
    {
      "cell_type": "code",
      "source": [
        "def get_reshaped(arr):\n",
        "  for i in range(len(arr)):\n",
        "    arr[i] = arr[i].reshape([-1])\n",
        "    arr[i] = np.append(arr[i], 1)\n",
        "  return arr"
      ],
      "metadata": {
        "id": "MXxZO-Fy3edw"
      },
      "execution_count": null,
      "outputs": []
    },
    {
      "cell_type": "code",
      "source": [
        "x_dataset = get_reshaped(x_dataset)"
      ],
      "metadata": {
        "id": "FaP-QZQZ3gEU"
      },
      "execution_count": null,
      "outputs": []
    },
    {
      "cell_type": "code",
      "source": [
        "x_train, y_train, x_test, y_test = mini_batch(x_dataset, y_dataset)\n",
        "\n",
        "print(y_train)\n",
        "print(y_test)"
      ],
      "metadata": {
        "colab": {
          "base_uri": "https://localhost:8080/"
        },
        "id": "HA_JelEY2k5p",
        "outputId": "8c9dba5b-a54d-4f46-9f7f-d1190f327fc2"
      },
      "execution_count": null,
      "outputs": [
        {
          "output_type": "stream",
          "name": "stdout",
          "text": [
            "Количество строк в y_train по классам: [8 8]\n",
            "Количество строк в y_test по классам: [2 2]\n",
            "[1, 0, 0, 0, 1, 1, 1, 0, 1, 1, 0, 1, 0, 1, 0, 0]\n",
            "[1, 0, 1, 0]\n"
          ]
        }
      ]
    },
    {
      "cell_type": "code",
      "source": [
        "x_train = np.array(x_train, np.float32)\n",
        "x_test = np.array(x_test, np.float32)\n",
        "\n",
        "x_train = x_train / 255.0\n",
        "x_test = x_test / 255.0\n",
        "\n",
        "print(type(x_train))"
      ],
      "metadata": {
        "colab": {
          "base_uri": "https://localhost:8080/"
        },
        "id": "NDV46jfjKMp7",
        "outputId": "2f34f1c5-446c-45e9-aa70-1ed8ee9e1e81"
      },
      "execution_count": null,
      "outputs": [
        {
          "output_type": "stream",
          "name": "stdout",
          "text": [
            "<class 'numpy.ndarray'>\n"
          ]
        }
      ]
    },
    {
      "cell_type": "code",
      "source": [
        "y_train = np.array(y_train, np.float32)\n",
        "y_test = np.array(y_test, np.float32)\n",
        "\n",
        "print(y_train)"
      ],
      "metadata": {
        "colab": {
          "base_uri": "https://localhost:8080/"
        },
        "id": "Noxm24fMKWGQ",
        "outputId": "b61c8586-1639-4699-8e4c-2e07de0953fa"
      },
      "execution_count": null,
      "outputs": [
        {
          "output_type": "stream",
          "name": "stdout",
          "text": [
            "[1. 0. 0. 0. 1. 1. 1. 0. 1. 1. 0. 1. 0. 1. 0. 0.]\n"
          ]
        }
      ]
    },
    {
      "cell_type": "code",
      "source": [
        "from sklearn.decomposition import PCA\n",
        "pca = PCA(n_components = 2)\n",
        "pca_reduce = pca.fit_transform(x_dataset)\n",
        "\n",
        "pca_x1 = pca_reduce[:, 0]\n",
        "pca_x2 = pca_reduce[:, 1]\n",
        "\n",
        "plt.figure(figsize=(5, 5))\n",
        "plt.scatter(pca_x1 , pca_x2, s = 12 , c = y_dataset , alpha = 0.5)"
      ],
      "metadata": {
        "colab": {
          "base_uri": "https://localhost:8080/",
          "height": 337
        },
        "id": "OPKsU9qN2nnc",
        "outputId": "c0fa49b4-973a-4b4d-ec61-f90d968e3771"
      },
      "execution_count": null,
      "outputs": [
        {
          "output_type": "execute_result",
          "data": {
            "text/plain": [
              "<matplotlib.collections.PathCollection at 0x7f3970487f10>"
            ]
          },
          "metadata": {},
          "execution_count": 392
        },
        {
          "output_type": "display_data",
          "data": {
            "text/plain": [
              "<Figure size 360x360 with 1 Axes>"
            ],
            "image/png": "[encoded data removed]"
          },
          "metadata": {
            "needs_background": "light"
          }
        }
      ]
    },
    {
      "cell_type": "code",
      "source": [
        "from sklearn.svm import SVC , LinearSVC\n",
        "from sklearn.metrics import accuracy_score , confusion_matrix"
      ],
      "metadata": {
        "id": "zmwagIhB32oD"
      },
      "execution_count": null,
      "outputs": []
    },
    {
      "cell_type": "code",
      "source": [
        "svm = SVC(kernel = 'linear' , C = 10)\n",
        "svm.fit(x_train, y_train)\n",
        "\n",
        "y_predict = svm.predict(x_test)\n",
        "\n",
        "linear_acc = accuracy_score(y_true = y_test , y_pred = y_predict)\n",
        "print(linear_acc)"
      ],
      "metadata": {
        "colab": {
          "base_uri": "https://localhost:8080/"
        },
        "id": "R6VNB2uC5oAA",
        "outputId": "bcd96a64-b1c2-44c0-a9e9-952f3c76f3e0"
      },
      "execution_count": null,
      "outputs": [
        {
          "output_type": "stream",
          "name": "stdout",
          "text": [
            "1.0\n"
          ]
        }
      ]
    },
    {
      "cell_type": "code",
      "source": [
        "class SVM:\n",
        "  def __init__(self, kernel = 'linear', C = 10, epochs = 1000, degree = 3, gamma = 1):\n",
        "    self.kernel = {\n",
        "        'linear' : lambda x, y : np.dot(x, y.T),\n",
        "        'poly' : lambda x, y : np.dot(x, y.T) ** degree,\n",
        "        #'rbf' : lambda x, y : np.exp(-gamma * np.sum((y - x[:, np.newaxis]) ** 2), axis = 1)\n",
        "    }[kernel]\n",
        "\n",
        "    self.C = C\n",
        "    self.epochs = epochs\n",
        "    \n",
        "  def lim_t(self, t, v0, u):\n",
        "    # допущение -- считаем движение по одной из осей\n",
        "    t = (np.clip(v0 + t * u, 0, self.C) - v0)[1] / u[1]\n",
        "    return (np.clip(v0 + t * u, 0, self.C) - v0)[0] / u[0]\n",
        "    \n",
        "  def fit(self, X, y):\n",
        "    self.X = X.copy()\n",
        "    self.y = y * 2 - 1\n",
        "    self.lambdas = np.zeros_like(self.y, dtype= float)\n",
        "    self.K = self.kernel(self.X, self.X) * self.y[:, np.newaxis] * self.y\n",
        "\n",
        "    for epoch in range(self.epochs):\n",
        "      if epoch % 10 == 0:\n",
        "        print(f'epoch {epoch}')\n",
        "      for indxM in range(len(self.lambdas)):\n",
        "        # должны считать все L, но пожалуй не стоит\n",
        "        indxL = np.random.randint(0, len(self.lambdas))\n",
        "        Q = self.K[[[indxM, indxL], [indxL, indxM]],\n",
        "                   [[indxM, indxL], [indxM, indxL]]]\n",
        "        v0 = self.lambdas[[indxM, indxL]]\n",
        "        k0 = 1 - np.sum(self.lambdas * self.K[[indxM, indxL]], axis = 1)\n",
        "        u = np.array([-self.y[indxL], self.y[indxM]])\n",
        "        # чзх сделал нехорошое дело чтобы не делить на ноль\n",
        "        t_ = np.dot(k0, u) / (np.dot(np.dot(Q, u), u) + 1E-15)\n",
        "        self.lambdas[[indxM, indxL]] = v0 + u * self.lim_t(t_, v0, u)\n",
        "      indx = np.nonzero(self.lambdas > 1E-15)\n",
        "      self.b = np.mean((1.0 - np.sum(self.K[indx] * self.lambdas, axis = 1))\n",
        "                        * self.y[indx])\n",
        "\n",
        "  def predict_(self, X):\n",
        "    return np.sum(self.kernel(X, self.X) * self.y * self.lambdas, axis = 1) + self.b\n",
        "    \n",
        "  def predict(self, X):\n",
        "    return (np.sign(self.predict_(X)) + 1) // 2\n"
      ],
      "metadata": {
        "id": "FaB4RqSv6B6O"
      },
      "execution_count": null,
      "outputs": []
    },
    {
      "cell_type": "code",
      "source": [
        "def rename(y_value):\n",
        "  print(type(y_value))\n",
        "  return y_value.astype(np.float32, copy=False)\n"
      ],
      "metadata": {
        "id": "NC056pBFc8mP"
      },
      "execution_count": null,
      "outputs": []
    },
    {
      "cell_type": "code",
      "source": [
        "y_train = rename(y_train)\n",
        "y_test = rename(y_test)"
      ],
      "metadata": {
        "colab": {
          "base_uri": "https://localhost:8080/"
        },
        "id": "gNzzCzbkMhxd",
        "outputId": "0ca5916c-03e1-4c09-a44c-fdfacfbf3486"
      },
      "execution_count": null,
      "outputs": [
        {
          "output_type": "stream",
          "name": "stdout",
          "text": [
            "<class 'numpy.ndarray'>\n",
            "<class 'numpy.ndarray'>\n"
          ]
        }
      ]
    },
    {
      "cell_type": "code",
      "source": [
        "manual_SVM = SVM(kernel='linear', C = 10, epochs = 50)\n",
        "\n",
        "manual_SVM.fit(x_train, y_train)\n",
        "\n",
        "y_pred_m = manual_SVM.predict(x_test)\n",
        "print(y_pred_m)\n",
        "print(y_test)\n",
        "\n",
        "linear_acc_m = accuracy_score(y_true = y_test, y_pred = y_pred_m)\n",
        "linear_conf_m = confusion_matrix(y_test, y_pred_m)\n",
        "\n",
        "print(f'accuracy = {linear_acc_m}')\n",
        "sns.heatmap(linear_conf_m.T, annot = True, cbar = False, fmt = 'd')"
      ],
      "metadata": {
        "colab": {
          "base_uri": "https://localhost:8080/",
          "height": 421
        },
        "id": "GxsMYHRT7gaw",
        "outputId": "6dfe8998-0833-43d7-fb70-f55a5fec0c48"
      },
      "execution_count": null,
      "outputs": [
        {
          "output_type": "stream",
          "name": "stdout",
          "text": [
            "epoch 0\n",
            "epoch 10\n",
            "epoch 20\n",
            "epoch 30\n",
            "epoch 40\n",
            "[1. 0. 1. 0.]\n",
            "[1. 0. 1. 0.]\n",
            "accuracy = 1.0\n"
          ]
        },
        {
          "output_type": "execute_result",
          "data": {
            "text/plain": [
              "<matplotlib.axes._subplots.AxesSubplot at 0x7f396cd4aa50>"
            ]
          },
          "metadata": {},
          "execution_count": 429
        },
        {
          "output_type": "display_data",
          "data": {
            "text/plain": [
              "<Figure size 432x288 with 1 Axes>"
            ],
            "image/png": "[encoded data removed]"
          },
          "metadata": {
            "needs_background": "light"
          }
        }
      ]
    },
    {
      "cell_type": "code",
      "source": [
        "manual_SVM = SVM(kernel='poly', C = 10, epochs = 50)\n",
        "\n",
        "manual_SVM.fit(x_train, y_train)\n",
        "\n",
        "y_pred_m = manual_SVM.predict(x_test)\n",
        "print(y_pred_m)\n",
        "print(y_test)\n",
        "\n",
        "linear_acc_m = accuracy_score(y_true = y_test, y_pred = y_pred_m)\n",
        "linear_conf_m = confusion_matrix(y_test, y_pred_m)\n",
        "\n",
        "print(f'accuracy = {linear_acc_m}')\n",
        "sns.heatmap(linear_conf_m.T, annot = True, cbar = False, fmt = 'd')"
      ],
      "metadata": {
        "colab": {
          "base_uri": "https://localhost:8080/",
          "height": 421
        },
        "id": "Y_JQPQn4SMoP",
        "outputId": "153e2583-e897-4f05-f727-044ae07a43eb"
      },
      "execution_count": null,
      "outputs": [
        {
          "output_type": "stream",
          "name": "stdout",
          "text": [
            "epoch 0\n",
            "epoch 10\n",
            "epoch 20\n",
            "epoch 30\n",
            "epoch 40\n",
            "[1. 0. 1. 0.]\n",
            "[1. 0. 1. 0.]\n",
            "accuracy = 1.0\n"
          ]
        },
        {
          "output_type": "execute_result",
          "data": {
            "text/plain": [
              "<matplotlib.axes._subplots.AxesSubplot at 0x7f396fcf2d90>"
            ]
          },
          "metadata": {},
          "execution_count": 430
        },
        {
          "output_type": "display_data",
          "data": {
            "text/plain": [
              "<Figure size 432x288 with 1 Axes>"
            ],
            "image/png": "[encoded data removed]"
          },
          "metadata": {
            "needs_background": "light"
          }
        }
      ]
    }
  ]
}